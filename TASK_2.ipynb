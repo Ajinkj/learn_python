{
  "nbformat": 4,
  "nbformat_minor": 0,
  "metadata": {
    "colab": {
      "name": "TASK 2.ipynb",
      "provenance": [],
      "include_colab_link": true
    },
    "kernelspec": {
      "name": "python3",
      "display_name": "Python 3"
    },
    "language_info": {
      "name": "python"
    }
  },
  "cells": [
    {
      "cell_type": "markdown",
      "metadata": {
        "id": "view-in-github",
        "colab_type": "text"
      },
      "source": [
        "<a href=\"https://colab.research.google.com/github/Ajinkj/learn_python/blob/main/TASK_2.ipynb\" target=\"_parent\"><img src=\"https://colab.research.google.com/assets/colab-badge.svg\" alt=\"Open In Colab\"/></a>"
      ]
    },
    {
      "cell_type": "markdown",
      "metadata": {
        "id": "LsC-2SdxAo8v"
      },
      "source": [
        "1 ) Consider i = 2, Write a program to convert i to float. \n",
        "---\n",
        "\n",
        "    (Expected Output = 2.0 )\n"
      ]
    },
    {
      "cell_type": "code",
      "metadata": {
        "id": "sHcMeA4vCUyp",
        "outputId": "86398aa0-1bc1-48c9-df16-afb774690866",
        "colab": {
          "base_uri": "https://localhost:8080/"
        }
      },
      "source": [
        "#please enter the code below this line\n",
        "i=2\n",
        "print(float(i))"
      ],
      "execution_count": 4,
      "outputs": [
        {
          "output_type": "stream",
          "text": [
            "2.0\n"
          ],
          "name": "stdout"
        }
      ]
    },
    {
      "cell_type": "markdown",
      "metadata": {
        "id": "w5XXklMpCZna"
      },
      "source": [
        "2 )Consider x=\"Hello\" and y=\"World\" , then write a program to concatinate the strings to a single string and print the result.\n",
        "            \n",
        "            \n",
        "            \n",
        "            \n",
        "          ( Expected output = Hello World )"
      ]
    },
    {
      "cell_type": "code",
      "metadata": {
        "id": "T72ap7WDD1OD",
        "outputId": "de096a1c-828d-4586-f44c-bb7e73845fb2",
        "colab": {
          "base_uri": "https://localhost:8080/"
        }
      },
      "source": [
        "#please enter the code below this line\n",
        "x=\"Hello\"\n",
        "y='World'\n",
        "print(x+' '+y)"
      ],
      "execution_count": 3,
      "outputs": [
        {
          "output_type": "stream",
          "text": [
            "Hello World\n"
          ],
          "name": "stdout"
        }
      ]
    },
    {
      "cell_type": "markdown",
      "metadata": {
        "id": "tnp5Z3JyD7iO"
      },
      "source": [
        "3 ) Consider pi = 3.14 . print the value of pie and its type."
      ]
    },
    {
      "cell_type": "code",
      "metadata": {
        "id": "hQQkH2m4E_Ci",
        "outputId": "8760b7ee-c2b6-4cd3-8c63-7bbc97ce09cd",
        "colab": {
          "base_uri": "https://localhost:8080/"
        }
      },
      "source": [
        "#please enter the code below this line\n",
        "pi=3.14\n",
        "print('value:',pi,'type:',type(pi))"
      ],
      "execution_count": 5,
      "outputs": [
        {
          "output_type": "stream",
          "text": [
            "value: 3.14 type: <class 'float'>\n"
          ],
          "name": "stdout"
        }
      ]
    }
  ]
}